{
  "nbformat": 4,
  "nbformat_minor": 0,
  "metadata": {
    "colab": {
      "provenance": [],
      "gpuType": "T4"
    },
    "kernelspec": {
      "name": "python3",
      "display_name": "Python 3"
    },
    "language_info": {
      "name": "python"
    },
    "accelerator": "GPU"
  },
  "cells": [
    {
      "cell_type": "markdown",
      "source": [
        "# Import Library"
      ],
      "metadata": {
        "id": "wVRzkWVXtNmE"
      }
    },
    {
      "cell_type": "code",
      "source": [
        "!pip install scikit-surprise"
      ],
      "metadata": {
        "colab": {
          "base_uri": "https://localhost:8080/"
        },
        "id": "7lm_2N2WtZst",
        "outputId": "c035d478-1694-46c9-d4f0-e432539d109e"
      },
      "execution_count": null,
      "outputs": [
        {
          "output_type": "stream",
          "name": "stdout",
          "text": [
            "Requirement already satisfied: scikit-surprise in /usr/local/lib/python3.11/dist-packages (1.1.4)\n",
            "Requirement already satisfied: joblib>=1.2.0 in /usr/local/lib/python3.11/dist-packages (from scikit-surprise) (1.5.0)\n",
            "Requirement already satisfied: numpy>=1.19.5 in /usr/local/lib/python3.11/dist-packages (from scikit-surprise) (1.24.3)\n",
            "Requirement already satisfied: scipy>=1.6.0 in /usr/local/lib/python3.11/dist-packages (from scikit-surprise) (1.15.3)\n"
          ]
        }
      ]
    },
    {
      "cell_type": "code",
      "source": [
        "pip install numpy==1.24.3"
      ],
      "metadata": {
        "colab": {
          "base_uri": "https://localhost:8080/"
        },
        "id": "h7HxIPrR6BlZ",
        "outputId": "736cb511-6603-4a49-df88-26a584ebdd48"
      },
      "execution_count": null,
      "outputs": [
        {
          "output_type": "stream",
          "name": "stdout",
          "text": [
            "Requirement already satisfied: numpy==1.24.3 in /usr/local/lib/python3.11/dist-packages (1.24.3)\n"
          ]
        }
      ]
    },
    {
      "cell_type": "code",
      "execution_count": null,
      "metadata": {
        "id": "1ob5kjvmizRY"
      },
      "outputs": [],
      "source": [
        "import numpy as np\n",
        "import pandas as pd\n",
        "\n",
        "# Visualization\n",
        "import matplotlib.pyplot as plt\n",
        "import seaborn as sns\n",
        "\n",
        "# Recommendation tools\n",
        "from sklearn.feature_extraction.text import TfidfVectorizer\n",
        "from sklearn.metrics.pairwise import cosine_similarity\n",
        "from sklearn.metrics import precision_score, recall_score, f1_score\n",
        "\n",
        "# untuk collaborative filtering)\n",
        "from surprise import Dataset, Reader, SVD\n",
        "from surprise.model_selection import cross_validate, train_test_split\n",
        "from surprise import accuracy\n",
        "from surprise.accuracy import rmse, mae\n",
        "\n",
        "# Lainnya\n",
        "import warnings\n",
        "warnings.filterwarnings('ignore')\n",
        "\n",
        "from google.colab import files"
      ]
    },
    {
      "cell_type": "markdown",
      "source": [
        "Pada tahap ini, mengimpor semua library Python yang dibutuhkan untuk proses data, visualisasi, dan pembangunan model sistem rekomendasi, baik content-based maupun collaborative filtering."
      ],
      "metadata": {
        "id": "RbnMqUcvtGFo"
      }
    },
    {
      "cell_type": "markdown",
      "source": [
        "# Loading Data"
      ],
      "metadata": {
        "id": "xAyaXqNDtlWe"
      }
    },
    {
      "cell_type": "code",
      "source": [
        "files.upload()"
      ],
      "metadata": {
        "colab": {
          "base_uri": "https://localhost:8080/",
          "height": 91
        },
        "id": "KEn28Zv6tnv0",
        "outputId": "a5836ee3-17c3-4ccc-fce5-3244d52489e8"
      },
      "execution_count": null,
      "outputs": [
        {
          "output_type": "display_data",
          "data": {
            "text/plain": [
              "<IPython.core.display.HTML object>"
            ],
            "text/html": [
              "\n",
              "     <input type=\"file\" id=\"files-e2b25bdd-e66c-4082-87d7-0b918cdb2f34\" name=\"files[]\" multiple disabled\n",
              "        style=\"border:none\" />\n",
              "     <output id=\"result-e2b25bdd-e66c-4082-87d7-0b918cdb2f34\">\n",
              "      Upload widget is only available when the cell has been executed in the\n",
              "      current browser session. Please rerun this cell to enable.\n",
              "      </output>\n",
              "      <script>// Copyright 2017 Google LLC\n",
              "//\n",
              "// Licensed under the Apache License, Version 2.0 (the \"License\");\n",
              "// you may not use this file except in compliance with the License.\n",
              "// You may obtain a copy of the License at\n",
              "//\n",
              "//      http://www.apache.org/licenses/LICENSE-2.0\n",
              "//\n",
              "// Unless required by applicable law or agreed to in writing, software\n",
              "// distributed under the License is distributed on an \"AS IS\" BASIS,\n",
              "// WITHOUT WARRANTIES OR CONDITIONS OF ANY KIND, either express or implied.\n",
              "// See the License for the specific language governing permissions and\n",
              "// limitations under the License.\n",
              "\n",
              "/**\n",
              " * @fileoverview Helpers for google.colab Python module.\n",
              " */\n",
              "(function(scope) {\n",
              "function span(text, styleAttributes = {}) {\n",
              "  const element = document.createElement('span');\n",
              "  element.textContent = text;\n",
              "  for (const key of Object.keys(styleAttributes)) {\n",
              "    element.style[key] = styleAttributes[key];\n",
              "  }\n",
              "  return element;\n",
              "}\n",
              "\n",
              "// Max number of bytes which will be uploaded at a time.\n",
              "const MAX_PAYLOAD_SIZE = 100 * 1024;\n",
              "\n",
              "function _uploadFiles(inputId, outputId) {\n",
              "  const steps = uploadFilesStep(inputId, outputId);\n",
              "  const outputElement = document.getElementById(outputId);\n",
              "  // Cache steps on the outputElement to make it available for the next call\n",
              "  // to uploadFilesContinue from Python.\n",
              "  outputElement.steps = steps;\n",
              "\n",
              "  return _uploadFilesContinue(outputId);\n",
              "}\n",
              "\n",
              "// This is roughly an async generator (not supported in the browser yet),\n",
              "// where there are multiple asynchronous steps and the Python side is going\n",
              "// to poll for completion of each step.\n",
              "// This uses a Promise to block the python side on completion of each step,\n",
              "// then passes the result of the previous step as the input to the next step.\n",
              "function _uploadFilesContinue(outputId) {\n",
              "  const outputElement = document.getElementById(outputId);\n",
              "  const steps = outputElement.steps;\n",
              "\n",
              "  const next = steps.next(outputElement.lastPromiseValue);\n",
              "  return Promise.resolve(next.value.promise).then((value) => {\n",
              "    // Cache the last promise value to make it available to the next\n",
              "    // step of the generator.\n",
              "    outputElement.lastPromiseValue = value;\n",
              "    return next.value.response;\n",
              "  });\n",
              "}\n",
              "\n",
              "/**\n",
              " * Generator function which is called between each async step of the upload\n",
              " * process.\n",
              " * @param {string} inputId Element ID of the input file picker element.\n",
              " * @param {string} outputId Element ID of the output display.\n",
              " * @return {!Iterable<!Object>} Iterable of next steps.\n",
              " */\n",
              "function* uploadFilesStep(inputId, outputId) {\n",
              "  const inputElement = document.getElementById(inputId);\n",
              "  inputElement.disabled = false;\n",
              "\n",
              "  const outputElement = document.getElementById(outputId);\n",
              "  outputElement.innerHTML = '';\n",
              "\n",
              "  const pickedPromise = new Promise((resolve) => {\n",
              "    inputElement.addEventListener('change', (e) => {\n",
              "      resolve(e.target.files);\n",
              "    });\n",
              "  });\n",
              "\n",
              "  const cancel = document.createElement('button');\n",
              "  inputElement.parentElement.appendChild(cancel);\n",
              "  cancel.textContent = 'Cancel upload';\n",
              "  const cancelPromise = new Promise((resolve) => {\n",
              "    cancel.onclick = () => {\n",
              "      resolve(null);\n",
              "    };\n",
              "  });\n",
              "\n",
              "  // Wait for the user to pick the files.\n",
              "  const files = yield {\n",
              "    promise: Promise.race([pickedPromise, cancelPromise]),\n",
              "    response: {\n",
              "      action: 'starting',\n",
              "    }\n",
              "  };\n",
              "\n",
              "  cancel.remove();\n",
              "\n",
              "  // Disable the input element since further picks are not allowed.\n",
              "  inputElement.disabled = true;\n",
              "\n",
              "  if (!files) {\n",
              "    return {\n",
              "      response: {\n",
              "        action: 'complete',\n",
              "      }\n",
              "    };\n",
              "  }\n",
              "\n",
              "  for (const file of files) {\n",
              "    const li = document.createElement('li');\n",
              "    li.append(span(file.name, {fontWeight: 'bold'}));\n",
              "    li.append(span(\n",
              "        `(${file.type || 'n/a'}) - ${file.size} bytes, ` +\n",
              "        `last modified: ${\n",
              "            file.lastModifiedDate ? file.lastModifiedDate.toLocaleDateString() :\n",
              "                                    'n/a'} - `));\n",
              "    const percent = span('0% done');\n",
              "    li.appendChild(percent);\n",
              "\n",
              "    outputElement.appendChild(li);\n",
              "\n",
              "    const fileDataPromise = new Promise((resolve) => {\n",
              "      const reader = new FileReader();\n",
              "      reader.onload = (e) => {\n",
              "        resolve(e.target.result);\n",
              "      };\n",
              "      reader.readAsArrayBuffer(file);\n",
              "    });\n",
              "    // Wait for the data to be ready.\n",
              "    let fileData = yield {\n",
              "      promise: fileDataPromise,\n",
              "      response: {\n",
              "        action: 'continue',\n",
              "      }\n",
              "    };\n",
              "\n",
              "    // Use a chunked sending to avoid message size limits. See b/62115660.\n",
              "    let position = 0;\n",
              "    do {\n",
              "      const length = Math.min(fileData.byteLength - position, MAX_PAYLOAD_SIZE);\n",
              "      const chunk = new Uint8Array(fileData, position, length);\n",
              "      position += length;\n",
              "\n",
              "      const base64 = btoa(String.fromCharCode.apply(null, chunk));\n",
              "      yield {\n",
              "        response: {\n",
              "          action: 'append',\n",
              "          file: file.name,\n",
              "          data: base64,\n",
              "        },\n",
              "      };\n",
              "\n",
              "      let percentDone = fileData.byteLength === 0 ?\n",
              "          100 :\n",
              "          Math.round((position / fileData.byteLength) * 100);\n",
              "      percent.textContent = `${percentDone}% done`;\n",
              "\n",
              "    } while (position < fileData.byteLength);\n",
              "  }\n",
              "\n",
              "  // All done.\n",
              "  yield {\n",
              "    response: {\n",
              "      action: 'complete',\n",
              "    }\n",
              "  };\n",
              "}\n",
              "\n",
              "scope.google = scope.google || {};\n",
              "scope.google.colab = scope.google.colab || {};\n",
              "scope.google.colab._files = {\n",
              "  _uploadFiles,\n",
              "  _uploadFilesContinue,\n",
              "};\n",
              "})(self);\n",
              "</script> "
            ]
          },
          "metadata": {}
        },
        {
          "output_type": "stream",
          "name": "stdout",
          "text": [
            "Saving kaggle.json to kaggle.json\n"
          ]
        },
        {
          "output_type": "execute_result",
          "data": {
            "text/plain": [
              "{'kaggle.json': b'{\"username\":\"noviaayufitriana\",\"key\":\"5acf0065cf29c1efdabfc3ff6ec62661\"}'}"
            ]
          },
          "metadata": {},
          "execution_count": 4
        }
      ]
    },
    {
      "cell_type": "code",
      "source": [
        "!mkdir -p ~/.kaggle\n",
        "!cp kaggle.json ~/.kaggle/\n",
        "!chmod 600 ~/.kaggle/kaggle.json\n",
        "\n",
        "!kaggle datasets download -d grouplens/movielens-20m-dataset\n",
        "!unzip -q movielens-20m-dataset.zip -d movielens"
      ],
      "metadata": {
        "colab": {
          "base_uri": "https://localhost:8080/"
        },
        "id": "qkpSno7gtuUe",
        "outputId": "97f9dd84-7bb8-4df9-df79-8731b5eb6651"
      },
      "execution_count": null,
      "outputs": [
        {
          "output_type": "stream",
          "name": "stdout",
          "text": [
            "Dataset URL: https://www.kaggle.com/datasets/grouplens/movielens-20m-dataset\n",
            "License(s): unknown\n",
            "Downloading movielens-20m-dataset.zip to /content\n",
            " 64% 126M/195M [00:00<00:00, 1.31GB/s]\n",
            "100% 195M/195M [00:00<00:00, 931MB/s] \n"
          ]
        }
      ]
    },
    {
      "cell_type": "code",
      "source": [
        "movies = pd.read_csv('/content/movielens/movie.csv')\n",
        "ratings = pd.read_csv('/content/movielens/rating.csv', nrows=500_000)\n",
        "\n",
        "# Tampilkan 5 data teratas\n",
        "print(\"Movies head:\")\n",
        "print(movies.head())\n",
        "\n",
        "print(\"\\nRatings head:\")\n",
        "print(ratings.head())"
      ],
      "metadata": {
        "colab": {
          "base_uri": "https://localhost:8080/"
        },
        "id": "XZAXB_kWux2H",
        "outputId": "38d58f62-02c3-4bbd-c0a7-a8a3584c6d87"
      },
      "execution_count": null,
      "outputs": [
        {
          "output_type": "stream",
          "name": "stdout",
          "text": [
            "Movies head:\n",
            "   movieId                               title  \\\n",
            "0        1                    Toy Story (1995)   \n",
            "1        2                      Jumanji (1995)   \n",
            "2        3             Grumpier Old Men (1995)   \n",
            "3        4            Waiting to Exhale (1995)   \n",
            "4        5  Father of the Bride Part II (1995)   \n",
            "\n",
            "                                        genres  \n",
            "0  Adventure|Animation|Children|Comedy|Fantasy  \n",
            "1                   Adventure|Children|Fantasy  \n",
            "2                               Comedy|Romance  \n",
            "3                         Comedy|Drama|Romance  \n",
            "4                                       Comedy  \n",
            "\n",
            "Ratings head:\n",
            "   userId  movieId  rating            timestamp\n",
            "0       1        2     3.5  2005-04-02 23:53:47\n",
            "1       1       29     3.5  2005-04-02 23:31:16\n",
            "2       1       32     3.5  2005-04-02 23:33:39\n",
            "3       1       47     3.5  2005-04-02 23:32:07\n",
            "4       1       50     3.5  2005-04-02 23:29:40\n"
          ]
        }
      ]
    },
    {
      "cell_type": "markdown",
      "source": [
        "Dataset MovieLens 20M terdiri dari file movies.csv dan ratings.csv. File movies.csv berisi informasi film (movieId, title, genres), sedangkan ratings.csv berisi interaksi user terhadap film (userId, movieId, rating, timestamp)."
      ],
      "metadata": {
        "id": "-C40PG2_xZId"
      }
    },
    {
      "cell_type": "markdown",
      "source": [
        "# Univariate Exploratory Data Analysis"
      ],
      "metadata": {
        "id": "61sTlpTixJKE"
      }
    },
    {
      "cell_type": "code",
      "source": [
        "# Print jumlah data (baris) masing-masing\n",
        "print(f\"\\nJumlah data movies: {len(movies)}\")\n",
        "print(f\"Jumlah data ratings: {len(ratings)}\")"
      ],
      "metadata": {
        "colab": {
          "base_uri": "https://localhost:8080/"
        },
        "id": "67iqYI-Fxngn",
        "outputId": "8c6593d0-08b5-4e7a-a74b-8c2a4319a662"
      },
      "execution_count": null,
      "outputs": [
        {
          "output_type": "stream",
          "name": "stdout",
          "text": [
            "\n",
            "Jumlah data movies: 27278\n",
            "Jumlah data ratings: 500000\n"
          ]
        }
      ]
    },
    {
      "cell_type": "markdown",
      "source": [
        "Kode ini berfungsi untuk menampilkan jumlah baris (data) yang ada pada masing-masing dataset movies dan ratings. Dengan kata lain, ini membantu untuk mengetahui berapa banyak data film dan rating yang sudah berhasil dimuat ke dalam program."
      ],
      "metadata": {
        "id": "YrDd3g6sEOMh"
      }
    },
    {
      "cell_type": "code",
      "source": [
        "# Genres\n",
        "genre_count = movies['genres'].str.split('|').explode().value_counts()\n",
        "genre_count.plot(kind='bar', title='Genre Distribution')\n",
        "plt.ylabel('Jumlah Film')\n",
        "plt.show()\n",
        "\n",
        "print(\"\\n\")\n",
        "# Ratings\n",
        "ratings['rating'].plot(kind='hist', bins=10, title='Rating Distribution')\n",
        "plt.xlabel('Rating')\n",
        "plt.show()\n"
      ],
      "metadata": {
        "colab": {
          "base_uri": "https://localhost:8080/",
          "height": 1000
        },
        "id": "fDkwpu6MxK5C",
        "outputId": "902da8a5-a215-49f9-dabe-2420e54101ce"
      },
      "execution_count": null,
      "outputs": [
        {
          "output_type": "display_data",
          "data": {
            "text/plain": [
              "<Figure size 640x480 with 1 Axes>"
            ],
            "image/png": "[encoded data removed]"
          },
          "metadata": {}
        },
        {
          "output_type": "stream",
          "name": "stdout",
          "text": [
            "\n",
            "\n"
          ]
        },
        {
          "output_type": "display_data",
          "data": {
            "text/plain": [
              "<Figure size 640x480 with 1 Axes>"
            ],
            "image/png": "[encoded data removed]"
          },
          "metadata": {}
        }
      ]
    },
    {
      "cell_type": "markdown",
      "source": [
        "Di tahap ini kita mengeksplorasi distribusi genre film dan distribusi nilai rating. Ini membantu kita memahami karakteristik data yang akan digunakan dalam model."
      ],
      "metadata": {
        "id": "vYEM-xDvyE8D"
      }
    },
    {
      "cell_type": "markdown",
      "source": [
        "# Data Processing"
      ],
      "metadata": {
        "id": "PXVhTl1fyGlG"
      }
    },
    {
      "cell_type": "code",
      "source": [
        "# Cek missing value\n",
        "print(movies.isnull().sum())\n",
        "print(\"\\n\")\n",
        "print(ratings.isnull().sum())"
      ],
      "metadata": {
        "colab": {
          "base_uri": "https://localhost:8080/"
        },
        "id": "8rZGYXb2VIp9",
        "outputId": "7350ead7-5e9a-464c-ec4d-42c4b9590001"
      },
      "execution_count": null,
      "outputs": [
        {
          "output_type": "stream",
          "name": "stdout",
          "text": [
            "movieId    0\n",
            "title      0\n",
            "genres     0\n",
            "dtype: int64\n",
            "\n",
            "\n",
            "userId       0\n",
            "movieId      0\n",
            "rating       0\n",
            "timestamp    0\n",
            "dtype: int64\n"
          ]
        }
      ]
    },
    {
      "cell_type": "markdown",
      "source": [
        "Melakukan cek missing value pada dataset movie dan rating"
      ],
      "metadata": {
        "id": "p1cvAEDIVc-S"
      }
    },
    {
      "cell_type": "code",
      "source": [
        "# Merge ratings dan movies\n",
        "data = pd.merge(ratings, movies, on='movieId')"
      ],
      "metadata": {
        "id": "BdYLQnA7yIYf"
      },
      "execution_count": null,
      "outputs": []
    },
    {
      "cell_type": "markdown",
      "source": [
        "Menggabungkan file ratings dengan movies berdasarkan movieId"
      ],
      "metadata": {
        "id": "P3NEKe9NyYVH"
      }
    },
    {
      "cell_type": "code",
      "source": [
        "# Drop timestamp\n",
        "data.drop(['timestamp'], axis=1, inplace=True)"
      ],
      "metadata": {
        "id": "Ms7EeiXOyNI3"
      },
      "execution_count": null,
      "outputs": []
    },
    {
      "cell_type": "markdown",
      "source": [
        "Menghapus kolom tidak relevan (timestamp)"
      ],
      "metadata": {
        "id": "KzThKafzydeS"
      }
    },
    {
      "cell_type": "code",
      "source": [
        "# Hapus duplikat jika ada\n",
        "data.drop_duplicates(inplace=True)"
      ],
      "metadata": {
        "id": "lq19rERJyP5y"
      },
      "execution_count": null,
      "outputs": []
    },
    {
      "cell_type": "markdown",
      "source": [
        "Membersihkan data duplikat atau tidak berguna."
      ],
      "metadata": {
        "id": "iWi_Th3Wygbf"
      }
    },
    {
      "cell_type": "code",
      "source": [
        "# Membersihkan data tanpa genre\n",
        "movies['genres'] = movies['genres'].replace('(no genres listed)', '')"
      ],
      "metadata": {
        "id": "dzwLSfTgySlr"
      },
      "execution_count": null,
      "outputs": []
    },
    {
      "cell_type": "markdown",
      "source": [
        "Sintaks movies ini digunakan untuk membersihkan data pada kolom genres di DataFrame movies dengan mengganti nilai '(no genres listed)' menjadi string kosong. Ini penting agar data tanpa genre tidak mengganggu proses analisis atau pembuatan model content-based seperti TF-IDF, yang mengandalkan teks dalam kolom tersebut."
      ],
      "metadata": {
        "id": "D3pITtEOy9iC"
      }
    },
    {
      "cell_type": "markdown",
      "source": [
        "# Data Preparation"
      ],
      "metadata": {
        "id": "J23VEpvIzD-W"
      }
    },
    {
      "cell_type": "code",
      "source": [
        "# TF-IDF untuk Content-Based Filtering\n",
        "tfidf = TfidfVectorizer(token_pattern=r'[^|]+')\n",
        "tfidf_matrix = tfidf.fit_transform(movies['genres'])\n",
        "\n",
        "# Buat mapping judul ke index\n",
        "indices = pd.Series(movies.index, index=movies['title']).drop_duplicates()"
      ],
      "metadata": {
        "id": "9yvzRLGJzGXE"
      },
      "execution_count": null,
      "outputs": []
    },
    {
      "cell_type": "markdown",
      "source": [
        "Untuk pendekatan Content-Based Filtering, kita menyiapkan TF-IDF berdasarkan genres, dan membuat mapping dari judul ke indeks."
      ],
      "metadata": {
        "id": "5vHqxbC7zL1v"
      }
    },
    {
      "cell_type": "markdown",
      "source": [
        "# Modelling Content-Based Filtering"
      ],
      "metadata": {
        "id": "w_lF0RbOzNje"
      }
    },
    {
      "cell_type": "code",
      "source": [
        "# Hitung cosine similarity\n",
        "cosine_sim = cosine_similarity(tfidf_matrix, tfidf_matrix)"
      ],
      "metadata": {
        "id": "QbSUg4s6_KmI"
      },
      "execution_count": null,
      "outputs": []
    },
    {
      "cell_type": "markdown",
      "source": [
        "Baris kode ini digunakan untuk menghitung kemiripan antar film berdasarkan representasi teks (biasanya dari kolom genres, overview, atau gabungan metadata) menggunakan cosine similarity."
      ],
      "metadata": {
        "id": "_3ySsrkl_Vgo"
      }
    },
    {
      "cell_type": "code",
      "source": [
        "def recommend(title, cosine_sim=cosine_sim):\n",
        "    idx = indices[title]\n",
        "    sim_scores = list(enumerate(cosine_sim[idx]))\n",
        "    sim_scores = sorted(sim_scores, key=lambda x: x[1], reverse=True)\n",
        "    sim_scores = sim_scores[1:11]\n",
        "    movie_indices = [i[0] for i in sim_scores]\n",
        "    return movies['title'].iloc[movie_indices]"
      ],
      "metadata": {
        "id": "j68FO15Z0avC"
      },
      "execution_count": null,
      "outputs": []
    },
    {
      "cell_type": "code",
      "source": [
        "recommend('Toy Story (1995)')"
      ],
      "metadata": {
        "colab": {
          "base_uri": "https://localhost:8080/",
          "height": 397
        },
        "id": "b83qEPo56iQX",
        "outputId": "970d31ff-2ae1-47a8-d3eb-2d9ad189ebe6"
      },
      "execution_count": null,
      "outputs": [
        {
          "output_type": "execute_result",
          "data": {
            "text/plain": [
              "2209                                           Antz (1998)\n",
              "3027                                    Toy Story 2 (1999)\n",
              "3663        Adventures of Rocky and Bullwinkle, The (2000)\n",
              "3922                      Emperor's New Groove, The (2000)\n",
              "4790                                 Monsters, Inc. (2001)\n",
              "10114    DuckTales: The Movie - Treasure of the Lost La...\n",
              "10987                                     Wild, The (2006)\n",
              "11871                               Shrek the Third (2007)\n",
              "13337                       Tale of Despereaux, The (2008)\n",
              "18274    Asterix and the Vikings (Astérix et les Viking...\n",
              "Name: title, dtype: object"
            ],
            "text/html": [
              "<div>\n",
              "<style scoped>\n",
              "    .dataframe tbody tr th:only-of-type {\n",
              "        vertical-align: middle;\n",
              "    }\n",
              "\n",
              "    .dataframe tbody tr th {\n",
              "        vertical-align: top;\n",
              "    }\n",
              "\n",
              "    .dataframe thead th {\n",
              "        text-align: right;\n",
              "    }\n",
              "</style>\n",
              "<table border=\"1\" class=\"dataframe\">\n",
              "  <thead>\n",
              "    <tr style=\"text-align: right;\">\n",
              "      <th></th>\n",
              "      <th>title</th>\n",
              "    </tr>\n",
              "  </thead>\n",
              "  <tbody>\n",
              "    <tr>\n",
              "      <th>2209</th>\n",
              "      <td>Antz (1998)</td>\n",
              "    </tr>\n",
              "    <tr>\n",
              "      <th>3027</th>\n",
              "      <td>Toy Story 2 (1999)</td>\n",
              "    </tr>\n",
              "    <tr>\n",
              "      <th>3663</th>\n",
              "      <td>Adventures of Rocky and Bullwinkle, The (2000)</td>\n",
              "    </tr>\n",
              "    <tr>\n",
              "      <th>3922</th>\n",
              "      <td>Emperor's New Groove, The (2000)</td>\n",
              "    </tr>\n",
              "    <tr>\n",
              "      <th>4790</th>\n",
              "      <td>Monsters, Inc. (2001)</td>\n",
              "    </tr>\n",
              "    <tr>\n",
              "      <th>10114</th>\n",
              "      <td>DuckTales: The Movie - Treasure of the Lost La...</td>\n",
              "    </tr>\n",
              "    <tr>\n",
              "      <th>10987</th>\n",
              "      <td>Wild, The (2006)</td>\n",
              "    </tr>\n",
              "    <tr>\n",
              "      <th>11871</th>\n",
              "      <td>Shrek the Third (2007)</td>\n",
              "    </tr>\n",
              "    <tr>\n",
              "      <th>13337</th>\n",
              "      <td>Tale of Despereaux, The (2008)</td>\n",
              "    </tr>\n",
              "    <tr>\n",
              "      <th>18274</th>\n",
              "      <td>Asterix and the Vikings (Astérix et les Viking...</td>\n",
              "    </tr>\n",
              "  </tbody>\n",
              "</table>\n",
              "</div><br><label><b>dtype:</b> object</label>"
            ]
          },
          "metadata": {},
          "execution_count": 17
        }
      ]
    },
    {
      "cell_type": "markdown",
      "source": [
        "Model menghitung kemiripan antar film berdasarkan genre menggunakan TF-IDF dan cosine similarity. Output berupa 10 rekomendasi film yang paling mirip dengan input."
      ],
      "metadata": {
        "id": "lwkOGPgm6dEY"
      }
    },
    {
      "cell_type": "markdown",
      "source": [
        "# Modelling Collaborative Filtering"
      ],
      "metadata": {
        "id": "YrPLNOVr6pds"
      }
    },
    {
      "cell_type": "code",
      "source": [
        "# Format data untuk Surprise\n",
        "reader = Reader(rating_scale=(0.5, 5.0))\n",
        "data_cf = Dataset.load_from_df(ratings[['userId', 'movieId', 'rating']], reader)\n",
        "\n",
        "# Split data menjadi train dan test (80% train, 20% test)\n",
        "trainset, testset = train_test_split(data_cf, test_size=0.2, random_state=42)\n",
        "\n",
        "# Gunakan model SVD\n",
        "model = SVD()\n",
        "\n",
        "# Training model dengan data train\n",
        "model.fit(trainset)"
      ],
      "metadata": {
        "colab": {
          "base_uri": "https://localhost:8080/"
        },
        "id": "9ZwbT52O6m50",
        "outputId": "ad03a6be-f4c9-427a-cbf1-e504a075b756"
      },
      "execution_count": null,
      "outputs": [
        {
          "output_type": "execute_result",
          "data": {
            "text/plain": [
              "<surprise.prediction_algorithms.matrix_factorization.SVD at 0x7dcd9d823810>"
            ]
          },
          "metadata": {},
          "execution_count": 18
        }
      ]
    },
    {
      "cell_type": "markdown",
      "source": [
        "Kode ini menyiapkan data rating untuk model Collaborative Filtering dengan Surprise, membagi data menjadi train dan test, lalu melatih model SVD menggunakan data train untuk memprediksi preferensi pengguna terhadap film."
      ],
      "metadata": {
        "id": "sVlw0rg06q6I"
      }
    },
    {
      "cell_type": "code",
      "source": [
        "from collections import defaultdict\n",
        "\n",
        "# Buat prediksi pada data test\n",
        "predictions = model.test(testset)\n",
        "\n",
        "# Fungsi untuk mendapatkan top-N rekomendasi per user\n",
        "def get_top_n(predictions, n=10):\n",
        "    top_n = defaultdict(list)\n",
        "    for uid, iid, true_r, est, _ in predictions:\n",
        "        top_n[uid].append((iid, est))\n",
        "\n",
        "    # Urutkan setiap user berdasarkan rating prediksi tertinggi\n",
        "    for uid, user_ratings in top_n.items():\n",
        "        user_ratings.sort(key=lambda x: x[1], reverse=True)\n",
        "        top_n[uid] = user_ratings[:n]\n",
        "\n",
        "    return top_n\n",
        "\n",
        "# Ambil top-10 rekomendasi untuk setiap user\n",
        "top_n = get_top_n(predictions, n=10)\n",
        "\n",
        "# tampilkan rekomendasi untuk userId tertentu\n",
        "for uid, user_ratings in top_n.items():\n",
        "    if uid == 822:\n",
        "        print(f\"Rekomendasi untuk user {uid}:\")\n",
        "        for i, (movie_id, rating) in enumerate(user_ratings, 1):\n",
        "            print(f\"{i}. MovieID: {movie_id}, Predicted Rating: {rating:.2f}\")\n",
        "        break\n"
      ],
      "metadata": {
        "colab": {
          "base_uri": "https://localhost:8080/"
        },
        "id": "DRScUPvjEXuW",
        "outputId": "9bb7e191-16cd-4463-954d-fc74751f970b"
      },
      "execution_count": null,
      "outputs": [
        {
          "output_type": "stream",
          "name": "stdout",
          "text": [
            "Rekomendasi untuk user 822:\n",
            "1. MovieID: 7153, Predicted Rating: 4.46\n",
            "2. MovieID: 2959, Predicted Rating: 4.30\n",
            "3. MovieID: 260, Predicted Rating: 4.20\n",
            "4. MovieID: 1291, Predicted Rating: 4.08\n",
            "5. MovieID: 2762, Predicted Rating: 3.96\n",
            "6. MovieID: 1136, Predicted Rating: 3.94\n",
            "7. MovieID: 40815, Predicted Rating: 3.90\n",
            "8. MovieID: 4963, Predicted Rating: 3.88\n",
            "9. MovieID: 4973, Predicted Rating: 3.81\n",
            "10. MovieID: 8368, Predicted Rating: 3.80\n"
          ]
        }
      ]
    },
    {
      "cell_type": "markdown",
      "source": [
        "Kode ini menghasilkan top-10 rekomendasi film untuk setiap pengguna berdasarkan prediksi rating dari model collaborative filtering. Rekomendasi diurutkan dari estimasi rating tertinggi, dan ditampilkan hasilnya untuk user dengan ID tertentu (contoh: user 822)"
      ],
      "metadata": {
        "id": "_DqSwk8zHhY3"
      }
    },
    {
      "cell_type": "markdown",
      "source": [
        "# Evaluasi"
      ],
      "metadata": {
        "id": "RimCD8i46suH"
      }
    },
    {
      "cell_type": "markdown",
      "source": [
        "### Content-Based Filtering"
      ],
      "metadata": {
        "id": "S92LG6Dj6x7q"
      }
    },
    {
      "cell_type": "code",
      "source": [
        "print(recommend('Money Train (1995)'))"
      ],
      "metadata": {
        "colab": {
          "base_uri": "https://localhost:8080/"
        },
        "id": "vAzc9tyc6vT6",
        "outputId": "8b5d8fdd-7d7c-4e96-8e2e-275471e4c72a"
      },
      "execution_count": null,
      "outputs": [
        {
          "output_type": "stream",
          "name": "stdout",
          "text": [
            "143                                        Bad Boys (1995)\n",
            "1398                                          Metro (1997)\n",
            "4931                                Another 48 Hrs. (1990)\n",
            "5529                                         Wasabi (2001)\n",
            "6895                            Last Boy Scout, The (1991)\n",
            "10842                                 Business, The (2005)\n",
            "12974                        Fifth Commandment, The (2008)\n",
            "22079                               Super Cops, The (1974)\n",
            "416                           Beverly Hills Cop III (1994)\n",
            "846      Supercop (Police Story 3: Supercop) (Jing cha ...\n",
            "Name: title, dtype: object\n"
          ]
        }
      ]
    },
    {
      "cell_type": "markdown",
      "source": [
        "Evaluasi dilakukan secara kualitatif dengan melihat apakah film-film yang direkomendasikan relevan dengan film input."
      ],
      "metadata": {
        "id": "FKZziA2L-anx"
      }
    },
    {
      "cell_type": "code",
      "source": [
        "# Tentukan threshold untuk similarity agar dianggap \"relevan\"\n",
        "threshold = 0.3\n",
        "\n",
        "# Fungsi untuk evaluasi Content-Based Filtering\n",
        "def evaluate_content_based(cosine_sim, top_n=10, threshold=0.3):\n",
        "    precisions = []\n",
        "    recalls = []\n",
        "    f1s = []\n",
        "\n",
        "    n_movies = cosine_sim.shape[0]\n",
        "\n",
        "    for idx in range(n_movies):\n",
        "        # Ground truth biner: film yang similarity-nya >= threshold\n",
        "        true_labels = (cosine_sim[idx] >= threshold).astype(int)\n",
        "        true_labels[idx] = 0  # exclude self similarity\n",
        "\n",
        "        # Prediksi biner: top-N film paling mirip\n",
        "        sim_scores = list(enumerate(cosine_sim[idx]))\n",
        "        sim_scores = sorted(sim_scores, key=lambda x: x[1], reverse=True)\n",
        "        top_n_indices = [i[0] for i in sim_scores[1:top_n+1]]  # exclude self\n",
        "\n",
        "        pred_labels = np.zeros(n_movies, dtype=int)\n",
        "        pred_labels[top_n_indices] = 1\n",
        "\n",
        "        # Hitung metrik\n",
        "        precision = precision_score(true_labels, pred_labels)\n",
        "        recall = recall_score(true_labels, pred_labels)\n",
        "        f1 = f1_score(true_labels, pred_labels)\n",
        "\n",
        "        precisions.append(precision)\n",
        "        recalls.append(recall)\n",
        "        f1s.append(f1)\n",
        "\n",
        "    print(f'Average Precision: {np.mean(precisions):.4f}')\n",
        "    print(f'Average Recall: {np.mean(recalls):.4f}')\n",
        "    print(f'Average F1-Score: {np.mean(f1s):.4f}')\n",
        "\n",
        "\n",
        "# Jalankan evaluasi\n",
        "evaluate_content_based(cosine_sim, top_n=10, threshold=0.3)\n"
      ],
      "metadata": {
        "colab": {
          "base_uri": "https://localhost:8080/"
        },
        "id": "Ap5jv5dh-sJn",
        "outputId": "41288f4e-2e28-4cb2-c7d1-18ec18eb34e4"
      },
      "execution_count": null,
      "outputs": [
        {
          "output_type": "stream",
          "name": "stdout",
          "text": [
            "Average Precision: 0.9775\n",
            "Average Recall: 0.0018\n",
            "Average F1-Score: 0.0037\n"
          ]
        }
      ]
    },
    {
      "cell_type": "markdown",
      "source": [
        "Evaluasi dilakukan dengan menghitung metrik Precision, Recall, dan F1-Score.\n",
        "Kita menggunakan threshold pada nilai cosine similarity untuk membuat ground truth biner film yang dianggap relevan (mirip).\n",
        "Selanjutnya, kita bandingkan dengan prediksi biner yang dihasilkan dari top-N rekomendasi untuk menghitung ketiga metrik tersebut secara rata-rata.\n",
        "Metrik ini membantu menilai seberapa baik model merekomendasikan film yang benar-benar relevan."
      ],
      "metadata": {
        "id": "zj6VOJK3AR90"
      }
    },
    {
      "cell_type": "markdown",
      "source": [
        "### Collaborative Filtering"
      ],
      "metadata": {
        "id": "evmsoiIu97ux"
      }
    },
    {
      "cell_type": "code",
      "source": [
        "# Prediksi rating pada data test\n",
        "predictions = model.test(testset)\n",
        "\n",
        "# Hitung metrik evaluasi RMSE dan MAE\n",
        "rmse = accuracy.rmse(predictions)\n",
        "mae = accuracy.mae(predictions)"
      ],
      "metadata": {
        "colab": {
          "base_uri": "https://localhost:8080/"
        },
        "id": "RfBc3N4w97SJ",
        "outputId": "6f007cb9-c50f-4558-98c2-4c6c53f7547b"
      },
      "execution_count": null,
      "outputs": [
        {
          "output_type": "stream",
          "name": "stdout",
          "text": [
            "RMSE: 0.8553\n",
            "MAE:  0.6533\n"
          ]
        }
      ]
    },
    {
      "cell_type": "markdown",
      "source": [
        "Model dievaluasi menggunakan metrik RMSE dan MAE untuk mengukur seberapa dekat prediksi rating dengan rating asli pengguna pada data test."
      ],
      "metadata": {
        "id": "b3PsHWIZAbS-"
      }
    },
    {
      "cell_type": "code",
      "source": [
        "metrics = ['RMSE', 'MAE']\n",
        "values = [rmse, mae]\n",
        "\n",
        "plt.figure(figsize=(6, 4))\n",
        "bars = plt.bar(metrics, values, color=['skyblue', 'salmon'])\n",
        "plt.title('Evaluation Metrics - Collaborative Filtering (SVD)')\n",
        "plt.ylabel('Error')\n",
        "\n",
        "# Tambahkan nilai di atas bar\n",
        "for bar in bars:\n",
        "    yval = bar.get_height()\n",
        "    plt.text(bar.get_x() + bar.get_width()/2, yval + 0.01, f'{yval:.3f}', ha='center', va='bottom')\n",
        "\n",
        "plt.ylim(0, max(values) + 0.5)\n",
        "plt.grid(axis='y', linestyle='--', alpha=0.7)\n",
        "plt.tight_layout()\n",
        "plt.show()"
      ],
      "metadata": {
        "colab": {
          "base_uri": "https://localhost:8080/",
          "height": 407
        },
        "id": "XberXop1CsXt",
        "outputId": "b5d6a89f-9536-4e8b-c0c3-20a5e20fe9b0"
      },
      "execution_count": null,
      "outputs": [
        {
          "output_type": "display_data",
          "data": {
            "text/plain": [
              "<Figure size 600x400 with 1 Axes>"
            ],
            "image/png": "[encoded data removed]"
          },
          "metadata": {}
        }
      ]
    },
    {
      "cell_type": "markdown",
      "source": [
        "Visualisasi ini menunjukkan performa model SVD berdasarkan metrik RMSE dan MAE. Kedua metrik digunakan untuk mengukur akurasi prediksi rating, di mana nilai yang lebih rendah menunjukkan hasil yang lebih baik."
      ],
      "metadata": {
        "id": "XnWDRMekDDV1"
      }
    },
    {
      "cell_type": "markdown",
      "source": [
        "# inference"
      ],
      "metadata": {
        "id": "VbU-PvtFhoeK"
      }
    },
    {
      "cell_type": "markdown",
      "source": [
        "menghasilkan rekomendasi Top-N berdasarkan hasil model Collaborative Filtering (SVD) yang sudah dilatih sebelumnya."
      ],
      "metadata": {
        "id": "I2rc0dbYhus4"
      }
    },
    {
      "cell_type": "code",
      "source": [
        "from collections import defaultdict\n",
        "\n",
        "def get_top_n(predictions, n=10):\n",
        "    top_n = defaultdict(list)\n",
        "    for uid, iid, true_r, est, _ in predictions:\n",
        "        top_n[uid].append((iid, est))\n",
        "    for uid, user_ratings in top_n.items():\n",
        "        user_ratings.sort(key=lambda x: x[1], reverse=True)\n",
        "        top_n[uid] = user_ratings[:n]\n",
        "    return top_n\n",
        "\n",
        "top_n = get_top_n(predictions, n=10)\n"
      ],
      "metadata": {
        "id": "sFGXhZnWf8AZ"
      },
      "execution_count": null,
      "outputs": []
    },
    {
      "cell_type": "markdown",
      "source": [
        "Fungsi get_top_n mengelompokkan prediksi rating berdasarkan user, lalu mengurutkan dan memilih top-N rekomendasi dengan rating tertinggi untuk setiap user."
      ],
      "metadata": {
        "id": "4bUh1keAjmS4"
      }
    },
    {
      "cell_type": "code",
      "source": [
        "# Menampilkan 2 pengguna pertama saja\n",
        "for i, (uid, user_ratings) in enumerate(top_n.items()):\n",
        "    print(f\"User {uid} Top-{len(user_ratings)} recommendations:\")\n",
        "    for movie_id, predicted_rating in user_ratings:\n",
        "        print(f\"  MovieID: {movie_id}, Predicted Rating: {predicted_rating:.2f}\")\n",
        "    print(\"=\"*40)\n",
        "    if i == 1:\n",
        "        break\n"
      ],
      "metadata": {
        "colab": {
          "base_uri": "https://localhost:8080/"
        },
        "id": "5oTp1P2RgMX3",
        "outputId": "8f6e6aaf-77b6-444c-d0c0-767d1064e8df"
      },
      "execution_count": null,
      "outputs": [
        {
          "output_type": "stream",
          "name": "stdout",
          "text": [
            "User 982 Top-10 recommendations:\n",
            "  MovieID: 1136, Predicted Rating: 4.28\n",
            "  MovieID: 3307, Predicted Rating: 4.17\n",
            "  MovieID: 6016, Predicted Rating: 4.14\n",
            "  MovieID: 1252, Predicted Rating: 4.13\n",
            "  MovieID: 1089, Predicted Rating: 4.13\n",
            "  MovieID: 1175, Predicted Rating: 4.12\n",
            "  MovieID: 1230, Predicted Rating: 4.09\n",
            "  MovieID: 2966, Predicted Rating: 4.09\n",
            "  MovieID: 1212, Predicted Rating: 4.07\n",
            "  MovieID: 6350, Predicted Rating: 4.06\n",
            "========================================\n",
            "User 515 Top-10 recommendations:\n",
            "  MovieID: 47, Predicted Rating: 4.66\n",
            "  MovieID: 150, Predicted Rating: 3.93\n",
            "  MovieID: 292, Predicted Rating: 3.84\n",
            "  MovieID: 288, Predicted Rating: 3.78\n",
            "  MovieID: 588, Predicted Rating: 3.69\n",
            "  MovieID: 316, Predicted Rating: 3.65\n",
            "  MovieID: 587, Predicted Rating: 3.60\n",
            "  MovieID: 597, Predicted Rating: 3.57\n",
            "  MovieID: 500, Predicted Rating: 3.38\n",
            "  MovieID: 586, Predicted Rating: 3.36\n",
            "========================================\n"
          ]
        }
      ]
    },
    {
      "cell_type": "markdown",
      "source": [
        "Menampilkan rekomendasi top-N untuk dua user pertama, mencetak movie ID dan prediksi ratingnya secara singkat."
      ],
      "metadata": {
        "id": "8_VenXlHjnNk"
      }
    },
    {
      "cell_type": "code",
      "source": [
        "movie_id_to_title = dict(zip(movies['movieId'], movies['title']))\n",
        "\n",
        "# menampilkan rekomendasi lengkap dengan judul film\n",
        "for uid, user_ratings in top_n.items():\n",
        "    print(f\"User {uid} Top-{len(user_ratings)} recommendations:\")\n",
        "    for movie_id, predicted_rating in user_ratings:\n",
        "        title = movie_id_to_title.get(movie_id, \"Unknown Title\")\n",
        "        print(f\"  {title} (MovieID: {movie_id}) - Predicted Rating: {predicted_rating:.2f}\")\n",
        "    print(\"=\"*40)\n",
        "    break\n"
      ],
      "metadata": {
        "colab": {
          "base_uri": "https://localhost:8080/"
        },
        "id": "0P4PGV14gYjq",
        "outputId": "27eb12dc-8c4c-437b-8d4d-b1e7c469022c"
      },
      "execution_count": null,
      "outputs": [
        {
          "output_type": "stream",
          "name": "stdout",
          "text": [
            "User 982 Top-10 recommendations:\n",
            "  Monty Python and the Holy Grail (1975) (MovieID: 1136) - Predicted Rating: 4.28\n",
            "  City Lights (1931) (MovieID: 3307) - Predicted Rating: 4.17\n",
            "  City of God (Cidade de Deus) (2002) (MovieID: 6016) - Predicted Rating: 4.14\n",
            "  Chinatown (1974) (MovieID: 1252) - Predicted Rating: 4.13\n",
            "  Reservoir Dogs (1992) (MovieID: 1089) - Predicted Rating: 4.13\n",
            "  Delicatessen (1991) (MovieID: 1175) - Predicted Rating: 4.12\n",
            "  Annie Hall (1977) (MovieID: 1230) - Predicted Rating: 4.09\n",
            "  Straight Story, The (1999) (MovieID: 2966) - Predicted Rating: 4.09\n",
            "  Third Man, The (1949) (MovieID: 1212) - Predicted Rating: 4.07\n",
            "  Laputa: Castle in the Sky (Tenkû no shiro Rapyuta) (1986) (MovieID: 6350) - Predicted Rating: 4.06\n",
            "========================================\n"
          ]
        }
      ]
    },
    {
      "cell_type": "markdown",
      "source": [
        "Membuat mapping dari movieId ke judul film, lalu menampilkan rekomendasi untuk satu user dengan judul film lengkap beserta prediksi ratingnya."
      ],
      "metadata": {
        "id": "XQxUw124jojH"
      }
    }
  ]
}